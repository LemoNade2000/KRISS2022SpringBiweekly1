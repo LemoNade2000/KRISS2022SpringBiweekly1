{
 "cells": [
  {
   "cell_type": "code",
   "execution_count": 1,
   "metadata": {},
   "outputs": [],
   "source": [
    "import pandas as pd\n",
    "import yfinance as yf\n",
    "from pandas_datareader import data as pdr\n",
    "import seaborn as sns\n",
    "from datetime import datetime, timedelta, timezone\n",
    "import matplotlib.pyplot as plt\n",
    "sns.set_style(\"darkgrid\")\n",
    "plt.rcParams.update({'figure.max_open_warning': 0})\n",
    "#plt."
   ]
  },
  {
   "attachments": {},
   "cell_type": "markdown",
   "metadata": {},
   "source": [
    "How do?\n",
    "1. Brute-force interesting pairs to find \"cointegrated stocks\"\n",
    "2. Once found, run least-squares regression in order to find secret \"gamma\"\n",
    "3. Once gamma is found, repeat buying and unwinding using \"mean\" and \"spread\"\n",
    "\n",
    "What to describe?\n",
    "1. What is \"pair trading\"?\n",
    "2. Statistical arbitrage - Cointegration and Correlation\n",
    "3. Our version of finding suitable pair - data collection, cointegration tests, least squares\n",
    "4. (If possible) Run and backtest"
   ]
  },
  {
   "cell_type": "code",
   "execution_count": 7,
   "metadata": {},
   "outputs": [],
   "source": [
    "ticker_list = [\"TSLA\", \"AAPL\", \"GS\", \"A\"]"
   ]
  },
  {
   "cell_type": "code",
   "execution_count": 13,
   "metadata": {},
   "outputs": [],
   "source": [
    "aple = yf.Ticker(\"AAPL\")\n",
    "df = aple.history(period = \"3mo\")"
   ]
  },
  {
   "cell_type": "code",
   "execution_count": 14,
   "metadata": {},
   "outputs": [],
   "source": [
    "df.to_csv(\"aple.csv\")"
   ]
  }
 ],
 "metadata": {
  "kernelspec": {
   "display_name": "Python 3",
   "language": "python",
   "name": "python3"
  },
  "language_info": {
   "codemirror_mode": {
    "name": "ipython",
    "version": 3
   },
   "file_extension": ".py",
   "mimetype": "text/x-python",
   "name": "python",
   "nbconvert_exporter": "python",
   "pygments_lexer": "ipython3",
   "version": "3.9.6"
  },
  "orig_nbformat": 4,
  "vscode": {
   "interpreter": {
    "hash": "aee8b7b246df8f9039afb4144a1f6fd8d2ca17a180786b69acc140d282b71a49"
   }
  }
 },
 "nbformat": 4,
 "nbformat_minor": 2
}
